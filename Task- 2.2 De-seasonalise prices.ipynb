{
 "cells": [
  {
   "cell_type": "markdown",
   "metadata": {},
   "source": [
    "### 2.2 De-seasonalise prices for each commodity and APMC according to the detected seasonality type"
   ]
  },
  {
   "cell_type": "code",
   "execution_count": 1,
   "metadata": {},
   "outputs": [],
   "source": [
    "import pandas as pd\n",
    "pd.set_option('chained_assignment',None)\n",
    "import numpy as np"
   ]
  },
  {
   "cell_type": "code",
   "execution_count": 2,
   "metadata": {},
   "outputs": [],
   "source": [
    "def deseasonalise_values(data_filter,value):\n",
    "    data_filter[\"trend\"]=data_filter[\"modal_price\"].rolling(window=2).mean()\n",
    "    \n",
    "    if (value==\"Additive\"):\n",
    "        data_filter[\"detrended_additive\"]=data_filter[\"modal_price\"]-data_filter[\"trend\"]\n",
    "        additive_mean=data_filter[[\"detrended_additive\",\"quarter\"]].groupby([\"quarter\"]).mean().to_dict()[\"detrended_additive\"]\n",
    "        data_filter[\"seasonal_additive\"]=data_filter[\"quarter\"].apply(lambda x: additive_mean[x])\n",
    "        values=data_filter[\"modal_price\"]-data_filter[\"seasonal_additive\"]\n",
    "        values=values.tolist()\n",
    "        \n",
    "    else:\n",
    "        data_filter[\"detrended_multiplicative\"]=data_filter[\"modal_price\"]/data_filter[\"trend\"]\n",
    "        multiplicative_mean=data_filter[[\"detrended_multiplicative\",\"quarter\"]].groupby([\"quarter\"]).mean().to_dict()[\"detrended_multiplicative\"]\n",
    "        data_filter[\"seasonal_multiplicative\"]=data_filter[\"quarter\"].apply(lambda x: multiplicative_mean[x])\n",
    "        values=data_filter[\"modal_price\"]/data_filter[\"seasonal_multiplicative\"]\n",
    "        values=values.tolist()\n",
    "        \n",
    "    indexes=data_filter.index.tolist()\n",
    "\n",
    "    values_range=range(0,len(values))\n",
    "    \n",
    "    for index,value in zip(indexes,values_range):\n",
    "        \n",
    "        data_filter.at[index,\"deseasonalise_price\"]=values[value]\n",
    "        \n",
    "    return data_filter[[\"APMC\",\"Commodity\",\"combination_label\",\"date\",\"modal_price\",\"quarter\",\"deseasonalise_price\"]]\n",
    "\n"
   ]
  },
  {
   "cell_type": "code",
   "execution_count": 3,
   "metadata": {},
   "outputs": [],
   "source": [
    "df_type=pd.read_csv(\"seasonality_type.csv\").set_index(\"Commodity\").to_dict()[\"Seasonality Type\"]\n",
    "df_data=pd.read_csv(\"seasonal_data_analysis.csv\")\n",
    "df_data[\"deseasonalise_price\"]=np.nan #initialize empty column \n"
   ]
  },
  {
   "cell_type": "code",
   "execution_count": 4,
   "metadata": {},
   "outputs": [],
   "source": [
    "commoditites=list(df_type.keys())\n",
    "data_main=pd.DataFrame() #new data frame \n",
    "for commoditiy in commoditites:\n",
    "    data_temp=deseasonalise_values(df_data[df_data[\"combination_label\"]==commoditiy],df_type[commoditiy])\n",
    "    data_main=pd.concat([data_main,data_temp])\n",
    "data_main.to_csv(\"deseasonalize_data.csv\",index=False)\n",
    "    \n"
   ]
  }
 ],
 "metadata": {
  "kernelspec": {
   "display_name": "Python 3",
   "language": "python",
   "name": "python3"
  },
  "language_info": {
   "codemirror_mode": {
    "name": "ipython",
    "version": 3
   },
   "file_extension": ".py",
   "mimetype": "text/x-python",
   "name": "python",
   "nbconvert_exporter": "python",
   "pygments_lexer": "ipython3",
   "version": "3.6.5"
  }
 },
 "nbformat": 4,
 "nbformat_minor": 2
}
