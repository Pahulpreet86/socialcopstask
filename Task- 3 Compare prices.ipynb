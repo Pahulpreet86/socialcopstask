{
 "cells": [
  {
   "cell_type": "markdown",
   "metadata": {},
   "source": [
    "### 3. Compare prices in APMC/Mandi with MSP(Minimum Support Price)- raw and deseasonalised"
   ]
  },
  {
   "cell_type": "code",
   "execution_count": 1,
   "metadata": {},
   "outputs": [],
   "source": [
    "import pandas as pd\n",
    "from bokeh.plotting import Figure, show, output_notebook\n"
   ]
  },
  {
   "cell_type": "code",
   "execution_count": 2,
   "metadata": {},
   "outputs": [],
   "source": [
    "df=pd.read_csv(\"deseasonalize_data.csv\")\n",
    "df[\"date\"]=pd.to_datetime(df[\"date\"])"
   ]
  },
  {
   "cell_type": "code",
   "execution_count": 4,
   "metadata": {
    "scrolled": false
   },
   "outputs": [],
   "source": [
    "source=df[df[\"combination_label\"]==\"Akole:gram\"]\n",
    "p = Figure(x_axis_type=\"datetime\", plot_width=800, plot_height=350)\n",
    "p.line('date', 'deseasonalise_price',color='green',source=source)\n",
    "p.line('date', 'modal_price',color='blue', source=source)\n",
    "p.title.text=\"APMC:Akole   Commodity:Gram\""
   ]
  },
  {
   "cell_type": "code",
   "execution_count": 5,
   "metadata": {},
   "outputs": [
    {
     "data": {
      "text/html": [
       "\n",
       "<div class=\"bk-root\">\n",
       "    <div class=\"bk-plotdiv\" id=\"8a74cd97-4381-4f73-9db1-abd51d7989ba\"></div>\n",
       "</div>"
      ]
     },
     "metadata": {},
     "output_type": "display_data"
    },
    {
     "data": {
      "application/javascript": [
       "(function(root) {\n",
       "  function embed_document(root) {\n",
       "    \n",
       "  var docs_json = {\"b1344ed1-2822-44de-b646-da574075fdd2\":{\"roots\":{\"references\":[{\"attributes\":{},\"id\":\"4bc1a4a6-ac84-4bcd-b875-27c5c49b3bb4\",\"type\":\"YearsTicker\"},{\"attributes\":{\"months\":[0,1,2,3,4,5,6,7,8,9,10,11]},\"id\":\"b8f32fb6-dadf-4f38-af95-77aee6cede9e\",\"type\":\"MonthsTicker\"},{\"attributes\":{},\"id\":\"54ec990a-fe18-4377-aa7a-03aa70da19c4\",\"type\":\"DatetimeTickFormatter\"},{\"attributes\":{\"active_drag\":\"auto\",\"active_inspect\":\"auto\",\"active_scroll\":\"auto\",\"active_tap\":\"auto\",\"tools\":[{\"id\":\"7a4ea249-55e5-4c5f-be6b-3e05fb6ad1a4\",\"type\":\"PanTool\"},{\"id\":\"20a210cd-bdd8-4b5c-990b-404e9e031c17\",\"type\":\"WheelZoomTool\"},{\"id\":\"768b40f5-7854-43e0-aa8c-c84f743fc688\",\"type\":\"BoxZoomTool\"},{\"id\":\"3a200ef4-6ac7-4dcb-b611-3444f867a442\",\"type\":\"SaveTool\"},{\"id\":\"bab833da-8fce-41fb-acea-e68e38dcf96e\",\"type\":\"ResetTool\"},{\"id\":\"699f7d91-ae0d-45b2-80fd-083739e1d9d2\",\"type\":\"HelpTool\"}]},\"id\":\"3bcf0094-b802-44a0-9dbf-00fff3ba7a9d\",\"type\":\"Toolbar\"},{\"attributes\":{\"mantissas\":[1,2,5],\"max_interval\":500.0,\"num_minor_ticks\":0},\"id\":\"f4b5849b-da7e-4961-ac45-1ffd67d35641\",\"type\":\"AdaptiveTicker\"},{\"attributes\":{\"below\":[{\"id\":\"016c2a47-0433-4a69-8238-690cd18a0ddb\",\"type\":\"DatetimeAxis\"}],\"left\":[{\"id\":\"42b94a5b-d135-4b62-920a-f902afd04fd1\",\"type\":\"LinearAxis\"}],\"plot_height\":350,\"plot_width\":800,\"renderers\":[{\"id\":\"016c2a47-0433-4a69-8238-690cd18a0ddb\",\"type\":\"DatetimeAxis\"},{\"id\":\"90085d6c-c5d4-4e77-8911-1d746f2a741d\",\"type\":\"Grid\"},{\"id\":\"42b94a5b-d135-4b62-920a-f902afd04fd1\",\"type\":\"LinearAxis\"},{\"id\":\"aab3783d-218e-40d9-b1b7-af36aec36cab\",\"type\":\"Grid\"},{\"id\":\"ba7972d8-3244-4dad-b515-a44e8ea37a1b\",\"type\":\"BoxAnnotation\"},{\"id\":\"7943ba7a-0839-48a8-9328-54dc625a5b34\",\"type\":\"GlyphRenderer\"},{\"id\":\"3ca45865-a850-42fc-9ee3-9cbd76613886\",\"type\":\"GlyphRenderer\"}],\"title\":{\"id\":\"8cbe705d-554d-4573-a55e-684c733e1f84\",\"type\":\"Title\"},\"toolbar\":{\"id\":\"3bcf0094-b802-44a0-9dbf-00fff3ba7a9d\",\"type\":\"Toolbar\"},\"x_range\":{\"id\":\"30f5c204-7842-46ef-87ee-709d097a6fd0\",\"type\":\"DataRange1d\"},\"x_scale\":{\"id\":\"e20776e1-0316-4339-bfa0-7d94142e64ca\",\"type\":\"LinearScale\"},\"y_range\":{\"id\":\"93339313-02e9-434f-9e12-d7fc64aa2c78\",\"type\":\"DataRange1d\"},\"y_scale\":{\"id\":\"4b26187b-6c4f-4506-861f-3d1a8769dee9\",\"type\":\"LinearScale\"}},\"id\":\"19e4bf02-68d6-40b6-97e4-5f69fa465cc4\",\"subtype\":\"Figure\",\"type\":\"Plot\"},{\"attributes\":{\"days\":[1,4,7,10,13,16,19,22,25,28]},\"id\":\"004367e5-539a-45c4-8e11-88590d493306\",\"type\":\"DaysTicker\"},{\"attributes\":{\"months\":[0,2,4,6,8,10]},\"id\":\"262ea789-fec6-44e4-933f-374ddb397906\",\"type\":\"MonthsTicker\"},{\"attributes\":{\"months\":[0,6]},\"id\":\"96b2c616-d0ff-4c41-9b9f-f10c934908fa\",\"type\":\"MonthsTicker\"},{\"attributes\":{\"days\":[1,2,3,4,5,6,7,8,9,10,11,12,13,14,15,16,17,18,19,20,21,22,23,24,25,26,27,28,29,30,31]},\"id\":\"63d016db-959f-48f9-809f-b0d0a17dc674\",\"type\":\"DaysTicker\"},{\"attributes\":{\"dimension\":1,\"plot\":{\"id\":\"19e4bf02-68d6-40b6-97e4-5f69fa465cc4\",\"subtype\":\"Figure\",\"type\":\"Plot\"},\"ticker\":{\"id\":\"e4616c13-e98f-4810-98cc-1130448255bd\",\"type\":\"BasicTicker\"}},\"id\":\"aab3783d-218e-40d9-b1b7-af36aec36cab\",\"type\":\"Grid\"},{\"attributes\":{\"days\":[1,15]},\"id\":\"e6d3b6eb-b539-414b-bb44-3272b945f3bb\",\"type\":\"DaysTicker\"},{\"attributes\":{},\"id\":\"e20776e1-0316-4339-bfa0-7d94142e64ca\",\"type\":\"LinearScale\"},{\"attributes\":{\"callback\":null},\"id\":\"30f5c204-7842-46ef-87ee-709d097a6fd0\",\"type\":\"DataRange1d\"},{\"attributes\":{\"days\":[1,8,15,22]},\"id\":\"db7f7087-7ac0-4e49-b468-a259cda22729\",\"type\":\"DaysTicker\"},{\"attributes\":{\"base\":24,\"mantissas\":[1,2,4,6,8,12],\"max_interval\":43200000.0,\"min_interval\":3600000.0,\"num_minor_ticks\":0},\"id\":\"dddaf1c5-2eae-4c37-815e-94917ebf765d\",\"type\":\"AdaptiveTicker\"},{\"attributes\":{\"line_alpha\":0.1,\"line_color\":\"#1f77b4\",\"x\":{\"field\":\"date\"},\"y\":{\"field\":\"modal_price\"}},\"id\":\"25c7f06f-936e-4fbf-9b2f-a4cc30b3336c\",\"type\":\"Line\"},{\"attributes\":{\"line_color\":\"green\",\"x\":{\"field\":\"date\"},\"y\":{\"field\":\"deseasonalise_price\"}},\"id\":\"9a1933f5-b7a0-49cf-8436-25f1a155a966\",\"type\":\"Line\"},{\"attributes\":{},\"id\":\"e4616c13-e98f-4810-98cc-1130448255bd\",\"type\":\"BasicTicker\"},{\"attributes\":{\"base\":60,\"mantissas\":[1,2,5,10,15,20,30],\"max_interval\":1800000.0,\"min_interval\":1000.0,\"num_minor_ticks\":0},\"id\":\"c88b7eb8-e689-4921-b2d6-eae9ea61c6b4\",\"type\":\"AdaptiveTicker\"},{\"attributes\":{\"callback\":null},\"id\":\"93339313-02e9-434f-9e12-d7fc64aa2c78\",\"type\":\"DataRange1d\"},{\"attributes\":{\"num_minor_ticks\":5,\"tickers\":[{\"id\":\"f4b5849b-da7e-4961-ac45-1ffd67d35641\",\"type\":\"AdaptiveTicker\"},{\"id\":\"c88b7eb8-e689-4921-b2d6-eae9ea61c6b4\",\"type\":\"AdaptiveTicker\"},{\"id\":\"dddaf1c5-2eae-4c37-815e-94917ebf765d\",\"type\":\"AdaptiveTicker\"},{\"id\":\"63d016db-959f-48f9-809f-b0d0a17dc674\",\"type\":\"DaysTicker\"},{\"id\":\"004367e5-539a-45c4-8e11-88590d493306\",\"type\":\"DaysTicker\"},{\"id\":\"db7f7087-7ac0-4e49-b468-a259cda22729\",\"type\":\"DaysTicker\"},{\"id\":\"e6d3b6eb-b539-414b-bb44-3272b945f3bb\",\"type\":\"DaysTicker\"},{\"id\":\"b8f32fb6-dadf-4f38-af95-77aee6cede9e\",\"type\":\"MonthsTicker\"},{\"id\":\"262ea789-fec6-44e4-933f-374ddb397906\",\"type\":\"MonthsTicker\"},{\"id\":\"523ebc52-f617-4ce4-bf51-4fdbcbf60caf\",\"type\":\"MonthsTicker\"},{\"id\":\"96b2c616-d0ff-4c41-9b9f-f10c934908fa\",\"type\":\"MonthsTicker\"},{\"id\":\"4bc1a4a6-ac84-4bcd-b875-27c5c49b3bb4\",\"type\":\"YearsTicker\"}]},\"id\":\"625f9d72-1b3f-4ffe-9d89-e0324712e142\",\"type\":\"DatetimeTicker\"},{\"attributes\":{},\"id\":\"7a4ea249-55e5-4c5f-be6b-3e05fb6ad1a4\",\"type\":\"PanTool\"},{\"attributes\":{},\"id\":\"aa853a03-2e45-4900-8b0a-fbe797827374\",\"type\":\"BasicTickFormatter\"},{\"attributes\":{},\"id\":\"c74ce284-2a48-4b08-9a8c-33adea1c8e21\",\"type\":\"Selection\"},{\"attributes\":{},\"id\":\"b19fa6d5-c644-4078-bf8d-fae6091b9475\",\"type\":\"UnionRenderers\"},{\"attributes\":{\"formatter\":{\"id\":\"aa853a03-2e45-4900-8b0a-fbe797827374\",\"type\":\"BasicTickFormatter\"},\"plot\":{\"id\":\"19e4bf02-68d6-40b6-97e4-5f69fa465cc4\",\"subtype\":\"Figure\",\"type\":\"Plot\"},\"ticker\":{\"id\":\"e4616c13-e98f-4810-98cc-1130448255bd\",\"type\":\"BasicTicker\"}},\"id\":\"42b94a5b-d135-4b62-920a-f902afd04fd1\",\"type\":\"LinearAxis\"},{\"attributes\":{\"callback\":null,\"data\":{\"APMC\":[\"Akole\",\"Akole\",\"Akole\",\"Akole\",\"Akole\",\"Akole\",\"Akole\",\"Akole\",\"Akole\",\"Akole\",\"Akole\",\"Akole\",\"Akole\",\"Akole\",\"Akole\",\"Akole\",\"Akole\",\"Akole\",\"Akole\",\"Akole\",\"Akole\",\"Akole\",\"Akole\",\"Akole\",\"Akole\",\"Akole\"],\"Commodity\":[\"gram\",\"gram\",\"gram\",\"gram\",\"gram\",\"gram\",\"gram\",\"gram\",\"gram\",\"gram\",\"gram\",\"gram\",\"gram\",\"gram\",\"gram\",\"gram\",\"gram\",\"gram\",\"gram\",\"gram\",\"gram\",\"gram\",\"gram\",\"gram\",\"gram\",\"gram\"],\"combination_label\":[\"Akole:gram\",\"Akole:gram\",\"Akole:gram\",\"Akole:gram\",\"Akole:gram\",\"Akole:gram\",\"Akole:gram\",\"Akole:gram\",\"Akole:gram\",\"Akole:gram\",\"Akole:gram\",\"Akole:gram\",\"Akole:gram\",\"Akole:gram\",\"Akole:gram\",\"Akole:gram\",\"Akole:gram\",\"Akole:gram\",\"Akole:gram\",\"Akole:gram\",\"Akole:gram\",\"Akole:gram\",\"Akole:gram\",\"Akole:gram\",\"Akole:gram\",\"Akole:gram\"],\"date\":{\"__ndarray__\":\"AACALeiCdEIAAAAakIx0QgAAQGyKlnRCAADAWDKgdEIAAACrLKp0QgAAQP0mtHRCAABAHiq9dEIAAIBwJMd0QgAAAF3M0HRCAABAr8badEIAAMCbbuR0QgAAAO5o7nRCAABAQGP4dEIAAMAsCwJ1QgAAAH8FDHVCAACAa60VdUIAAMC9px91QgAAABCiKXVCAADAlvcydUIAAADp8Tx1QgAAgNWZRnVCAADAJ5RQdUIAAEAUPFp1QgAAgGY2ZHVCAABApdh3dUIAAID30oF1Qg==\",\"dtype\":\"float64\",\"shape\":[26]},\"deseasonalise_price\":{\"__ndarray__\":\"jmBFoUPYp0CkLCXTGR6oQHCSAckDIalAC6piF/kqqUAicvWm8k+pQJOjc6BB7KhA24q0IxoeqUDiunipMjOpQNygs7gOVKpAgQIjdQ+lq0A6CdTc0merQHMDGZ5qu6tADsjztRj9q0A+jXxRwjqrQFrvLOkh0KtAd1HdgIFlrEB4SQDOGKarQOl6fsdnQqtAQFKJ7o2YrUAq/DAmPXywQDJQjrnWDrNATzS7ty/vs0D/OSJGFhW2QP85IkYWFbZAhnJSPOUYtkCGclI85Ri2QA==\",\"dtype\":\"float64\",\"shape\":[26]},\"index\":[81,82,83,84,85,86,87,88,89,90,91,92,93,94,95,96,97,98,99,100,101,102,103,104,105,106],\"modal_price\":{\"__ndarray__\":\"AAAAAAD2p0AAAAAAADioQAAAAAAAPKlAAAAAAABGqUAAAAAAAGSpQAAAAAAAAKlAAAAAAAAyqUAAAAAAACyqQAAAAAAAWKtAAAAAAAC2rEAAAAAAAIqrQAAAAAAA3qtAAAAAAAAgrEAAAAAAAFirQAAAAAAA7qtAAAAAAACErEAAAAAAALyrQAAAAAAAWKtAAAAAAACwrUAAAAAAAB+xQAAAAAAAy7NAAAAAAAC0tEAAAAAAoDC2QAAAAACgMLZAAAAAAKAwtkAAAAAAoDC2QA==\",\"dtype\":\"float64\",\"shape\":[26]},\"quarter\":[3,4,4,4,1,1,1,2,2,2,3,3,3,4,4,4,1,1,1,2,2,2,3,3,4,4]},\"selected\":{\"id\":\"c74ce284-2a48-4b08-9a8c-33adea1c8e21\",\"type\":\"Selection\"},\"selection_policy\":{\"id\":\"f15c9685-14ab-45df-a619-72043949f7fc\",\"type\":\"UnionRenderers\"}},\"id\":\"8d7c9df2-01f9-4e51-93f1-bd2b79565812\",\"type\":\"ColumnDataSource\"},{\"attributes\":{\"months\":[0,4,8]},\"id\":\"523ebc52-f617-4ce4-bf51-4fdbcbf60caf\",\"type\":\"MonthsTicker\"},{\"attributes\":{\"plot\":{\"id\":\"19e4bf02-68d6-40b6-97e4-5f69fa465cc4\",\"subtype\":\"Figure\",\"type\":\"Plot\"},\"ticker\":{\"id\":\"625f9d72-1b3f-4ffe-9d89-e0324712e142\",\"type\":\"DatetimeTicker\"}},\"id\":\"90085d6c-c5d4-4e77-8911-1d746f2a741d\",\"type\":\"Grid\"},{\"attributes\":{\"line_color\":\"blue\",\"x\":{\"field\":\"date\"},\"y\":{\"field\":\"modal_price\"}},\"id\":\"a2b45a5c-27c3-4013-a847-f0885ca379b2\",\"type\":\"Line\"},{\"attributes\":{},\"id\":\"bab833da-8fce-41fb-acea-e68e38dcf96e\",\"type\":\"ResetTool\"},{\"attributes\":{},\"id\":\"699f7d91-ae0d-45b2-80fd-083739e1d9d2\",\"type\":\"HelpTool\"},{\"attributes\":{},\"id\":\"0921b7c8-f6d6-4cb5-bb72-ed131a9d855f\",\"type\":\"Selection\"},{\"attributes\":{},\"id\":\"3a200ef4-6ac7-4dcb-b611-3444f867a442\",\"type\":\"SaveTool\"},{\"attributes\":{},\"id\":\"f15c9685-14ab-45df-a619-72043949f7fc\",\"type\":\"UnionRenderers\"},{\"attributes\":{\"bottom_units\":\"screen\",\"fill_alpha\":{\"value\":0.5},\"fill_color\":{\"value\":\"lightgrey\"},\"left_units\":\"screen\",\"level\":\"overlay\",\"line_alpha\":{\"value\":1.0},\"line_color\":{\"value\":\"black\"},\"line_dash\":[4,4],\"line_width\":{\"value\":2},\"plot\":null,\"render_mode\":\"css\",\"right_units\":\"screen\",\"top_units\":\"screen\"},\"id\":\"ba7972d8-3244-4dad-b515-a44e8ea37a1b\",\"type\":\"BoxAnnotation\"},{\"attributes\":{\"formatter\":{\"id\":\"54ec990a-fe18-4377-aa7a-03aa70da19c4\",\"type\":\"DatetimeTickFormatter\"},\"plot\":{\"id\":\"19e4bf02-68d6-40b6-97e4-5f69fa465cc4\",\"subtype\":\"Figure\",\"type\":\"Plot\"},\"ticker\":{\"id\":\"625f9d72-1b3f-4ffe-9d89-e0324712e142\",\"type\":\"DatetimeTicker\"}},\"id\":\"016c2a47-0433-4a69-8238-690cd18a0ddb\",\"type\":\"DatetimeAxis\"},{\"attributes\":{\"line_alpha\":0.1,\"line_color\":\"#1f77b4\",\"x\":{\"field\":\"date\"},\"y\":{\"field\":\"deseasonalise_price\"}},\"id\":\"5e28df81-f076-44c2-89b6-2f9ac9fb07dc\",\"type\":\"Line\"},{\"attributes\":{\"overlay\":{\"id\":\"ba7972d8-3244-4dad-b515-a44e8ea37a1b\",\"type\":\"BoxAnnotation\"}},\"id\":\"768b40f5-7854-43e0-aa8c-c84f743fc688\",\"type\":\"BoxZoomTool\"},{\"attributes\":{},\"id\":\"20a210cd-bdd8-4b5c-990b-404e9e031c17\",\"type\":\"WheelZoomTool\"},{\"attributes\":{\"plot\":null,\"text\":\"APMC:Akole   Commodity:Gram\"},\"id\":\"8cbe705d-554d-4573-a55e-684c733e1f84\",\"type\":\"Title\"},{\"attributes\":{\"callback\":null,\"data\":{\"APMC\":[\"Akole\",\"Akole\",\"Akole\",\"Akole\",\"Akole\",\"Akole\",\"Akole\",\"Akole\",\"Akole\",\"Akole\",\"Akole\",\"Akole\",\"Akole\",\"Akole\",\"Akole\",\"Akole\",\"Akole\",\"Akole\",\"Akole\",\"Akole\",\"Akole\",\"Akole\",\"Akole\",\"Akole\",\"Akole\",\"Akole\"],\"Commodity\":[\"gram\",\"gram\",\"gram\",\"gram\",\"gram\",\"gram\",\"gram\",\"gram\",\"gram\",\"gram\",\"gram\",\"gram\",\"gram\",\"gram\",\"gram\",\"gram\",\"gram\",\"gram\",\"gram\",\"gram\",\"gram\",\"gram\",\"gram\",\"gram\",\"gram\",\"gram\"],\"combination_label\":[\"Akole:gram\",\"Akole:gram\",\"Akole:gram\",\"Akole:gram\",\"Akole:gram\",\"Akole:gram\",\"Akole:gram\",\"Akole:gram\",\"Akole:gram\",\"Akole:gram\",\"Akole:gram\",\"Akole:gram\",\"Akole:gram\",\"Akole:gram\",\"Akole:gram\",\"Akole:gram\",\"Akole:gram\",\"Akole:gram\",\"Akole:gram\",\"Akole:gram\",\"Akole:gram\",\"Akole:gram\",\"Akole:gram\",\"Akole:gram\",\"Akole:gram\",\"Akole:gram\"],\"date\":{\"__ndarray__\":\"AACALeiCdEIAAAAakIx0QgAAQGyKlnRCAADAWDKgdEIAAACrLKp0QgAAQP0mtHRCAABAHiq9dEIAAIBwJMd0QgAAAF3M0HRCAABAr8badEIAAMCbbuR0QgAAAO5o7nRCAABAQGP4dEIAAMAsCwJ1QgAAAH8FDHVCAACAa60VdUIAAMC9px91QgAAABCiKXVCAADAlvcydUIAAADp8Tx1QgAAgNWZRnVCAADAJ5RQdUIAAEAUPFp1QgAAgGY2ZHVCAABApdh3dUIAAID30oF1Qg==\",\"dtype\":\"float64\",\"shape\":[26]},\"deseasonalise_price\":{\"__ndarray__\":\"jmBFoUPYp0CkLCXTGR6oQHCSAckDIalAC6piF/kqqUAicvWm8k+pQJOjc6BB7KhA24q0IxoeqUDiunipMjOpQNygs7gOVKpAgQIjdQ+lq0A6CdTc0merQHMDGZ5qu6tADsjztRj9q0A+jXxRwjqrQFrvLOkh0KtAd1HdgIFlrEB4SQDOGKarQOl6fsdnQqtAQFKJ7o2YrUAq/DAmPXywQDJQjrnWDrNATzS7ty/vs0D/OSJGFhW2QP85IkYWFbZAhnJSPOUYtkCGclI85Ri2QA==\",\"dtype\":\"float64\",\"shape\":[26]},\"index\":[81,82,83,84,85,86,87,88,89,90,91,92,93,94,95,96,97,98,99,100,101,102,103,104,105,106],\"modal_price\":{\"__ndarray__\":\"AAAAAAD2p0AAAAAAADioQAAAAAAAPKlAAAAAAABGqUAAAAAAAGSpQAAAAAAAAKlAAAAAAAAyqUAAAAAAACyqQAAAAAAAWKtAAAAAAAC2rEAAAAAAAIqrQAAAAAAA3qtAAAAAAAAgrEAAAAAAAFirQAAAAAAA7qtAAAAAAACErEAAAAAAALyrQAAAAAAAWKtAAAAAAACwrUAAAAAAAB+xQAAAAAAAy7NAAAAAAAC0tEAAAAAAoDC2QAAAAACgMLZAAAAAAKAwtkAAAAAAoDC2QA==\",\"dtype\":\"float64\",\"shape\":[26]},\"quarter\":[3,4,4,4,1,1,1,2,2,2,3,3,3,4,4,4,1,1,1,2,2,2,3,3,4,4]},\"selected\":{\"id\":\"0921b7c8-f6d6-4cb5-bb72-ed131a9d855f\",\"type\":\"Selection\"},\"selection_policy\":{\"id\":\"b19fa6d5-c644-4078-bf8d-fae6091b9475\",\"type\":\"UnionRenderers\"}},\"id\":\"05f9e620-495f-4191-9ec6-e425d0569e74\",\"type\":\"ColumnDataSource\"},{\"attributes\":{\"source\":{\"id\":\"05f9e620-495f-4191-9ec6-e425d0569e74\",\"type\":\"ColumnDataSource\"}},\"id\":\"ad0f6a1a-f3e5-4740-a8b7-7a42f16cdbc4\",\"type\":\"CDSView\"},{\"attributes\":{\"data_source\":{\"id\":\"8d7c9df2-01f9-4e51-93f1-bd2b79565812\",\"type\":\"ColumnDataSource\"},\"glyph\":{\"id\":\"9a1933f5-b7a0-49cf-8436-25f1a155a966\",\"type\":\"Line\"},\"hover_glyph\":null,\"muted_glyph\":null,\"nonselection_glyph\":{\"id\":\"5e28df81-f076-44c2-89b6-2f9ac9fb07dc\",\"type\":\"Line\"},\"selection_glyph\":null,\"view\":{\"id\":\"2d51076c-3a98-44d4-ba33-23c87b726c6e\",\"type\":\"CDSView\"}},\"id\":\"7943ba7a-0839-48a8-9328-54dc625a5b34\",\"type\":\"GlyphRenderer\"},{\"attributes\":{\"source\":{\"id\":\"8d7c9df2-01f9-4e51-93f1-bd2b79565812\",\"type\":\"ColumnDataSource\"}},\"id\":\"2d51076c-3a98-44d4-ba33-23c87b726c6e\",\"type\":\"CDSView\"},{\"attributes\":{},\"id\":\"4b26187b-6c4f-4506-861f-3d1a8769dee9\",\"type\":\"LinearScale\"},{\"attributes\":{\"data_source\":{\"id\":\"05f9e620-495f-4191-9ec6-e425d0569e74\",\"type\":\"ColumnDataSource\"},\"glyph\":{\"id\":\"a2b45a5c-27c3-4013-a847-f0885ca379b2\",\"type\":\"Line\"},\"hover_glyph\":null,\"muted_glyph\":null,\"nonselection_glyph\":{\"id\":\"25c7f06f-936e-4fbf-9b2f-a4cc30b3336c\",\"type\":\"Line\"},\"selection_glyph\":null,\"view\":{\"id\":\"ad0f6a1a-f3e5-4740-a8b7-7a42f16cdbc4\",\"type\":\"CDSView\"}},\"id\":\"3ca45865-a850-42fc-9ee3-9cbd76613886\",\"type\":\"GlyphRenderer\"}],\"root_ids\":[\"19e4bf02-68d6-40b6-97e4-5f69fa465cc4\"]},\"title\":\"Bokeh Application\",\"version\":\"0.12.16\"}};\n",
       "  var render_items = [{\"docid\":\"b1344ed1-2822-44de-b646-da574075fdd2\",\"elementid\":\"8a74cd97-4381-4f73-9db1-abd51d7989ba\",\"modelid\":\"19e4bf02-68d6-40b6-97e4-5f69fa465cc4\"}];\n",
       "  root.Bokeh.embed.embed_items_notebook(docs_json, render_items);\n",
       "\n",
       "  }\n",
       "  if (root.Bokeh !== undefined) {\n",
       "    embed_document(root);\n",
       "  } else {\n",
       "    var attempts = 0;\n",
       "    var timer = setInterval(function(root) {\n",
       "      if (root.Bokeh !== undefined) {\n",
       "        embed_document(root);\n",
       "        clearInterval(timer);\n",
       "      }\n",
       "      attempts++;\n",
       "      if (attempts > 100) {\n",
       "        console.log(\"Bokeh: ERROR: Unable to run BokehJS code because BokehJS library is missing\")\n",
       "        clearInterval(timer);\n",
       "      }\n",
       "    }, 10, root)\n",
       "  }\n",
       "})(window);"
      ],
      "application/vnd.bokehjs_exec.v0+json": ""
     },
     "metadata": {
      "application/vnd.bokehjs_exec.v0+json": {
       "id": "19e4bf02-68d6-40b6-97e4-5f69fa465cc4"
      }
     },
     "output_type": "display_data"
    }
   ],
   "source": [
    "show(p)"
   ]
  },
  {
   "cell_type": "markdown",
   "metadata": {},
   "source": [
    "### The visualization of the Modal Price and Deseasonal Price for other APMC and Commodity cluster can be viewed on the link below"
   ]
  },
  {
   "cell_type": "markdown",
   "metadata": {},
   "source": [
    "https://socialcopstaskthree.herokuapp.com/app"
   ]
  }
 ],
 "metadata": {
  "kernelspec": {
   "display_name": "Python 3",
   "language": "python",
   "name": "python3"
  },
  "language_info": {
   "codemirror_mode": {
    "name": "ipython",
    "version": 3
   },
   "file_extension": ".py",
   "mimetype": "text/x-python",
   "name": "python",
   "nbconvert_exporter": "python",
   "pygments_lexer": "ipython3",
   "version": "3.6.5"
  }
 },
 "nbformat": 4,
 "nbformat_minor": 2
}
